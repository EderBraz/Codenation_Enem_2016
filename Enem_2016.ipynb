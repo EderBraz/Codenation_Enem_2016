{
  "nbformat": 4,
  "nbformat_minor": 0,
  "metadata": {
    "colab": {
      "name": "Enem 2016.ipynb",
      "provenance": [],
      "collapsed_sections": [],
      "toc_visible": true,
      "authorship_tag": "ABX9TyN8J0PCZ93tKxds8z4nI9lt",
      "include_colab_link": true
    },
    "kernelspec": {
      "name": "python3",
      "display_name": "Python 3"
    }
  },
  "cells": [
    {
      "cell_type": "markdown",
      "metadata": {
        "id": "view-in-github",
        "colab_type": "text"
      },
      "source": [
        "<a href=\"https://colab.research.google.com/github/EderBraz/Codenation_Enem_2016/blob/master/Enem_2016.ipynb\" target=\"_parent\"><img src=\"https://colab.research.google.com/assets/colab-badge.svg\" alt=\"Open In Colab\"/></a>"
      ]
    },
    {
      "cell_type": "markdown",
      "metadata": {
        "id": "w7oWDx0C2PyG",
        "colab_type": "text"
      },
      "source": [
        "#Desafio CodeNation - Aceleradev: Previsão de Nota de Matemática do ENEM 2016\n"
      ]
    },
    {
      "cell_type": "markdown",
      "metadata": {
        "id": "Cs_vtjPy-tXy",
        "colab_type": "text"
      },
      "source": [
        "Crie um modelo para prever a nota da prova de matemática de quem participou do ENEM 2016\n"
      ]
    },
    {
      "cell_type": "markdown",
      "metadata": {
        "id": "Rh3XrDX8-w30",
        "colab_type": "text"
      },
      "source": [
        "###Import libraries"
      ]
    },
    {
      "cell_type": "code",
      "metadata": {
        "id": "ffSd3eA22L7g",
        "colab_type": "code",
        "colab": {
          "base_uri": "https://localhost:8080/",
          "height": 51
        },
        "outputId": "8b2a9cf8-a605-4379-a109-9fe656f754cc"
      },
      "source": [
        "import pandas as pd\n",
        "import numpy as np\n",
        "import matplotlib.pyplot as plt\n",
        "import seaborn as sns\n",
        "\n",
        "from sklearn.metrics import mean_squared_error\n",
        "from sklearn.linear_model import LinearRegression\n",
        "from sklearn.preprocessing import MinMaxScaler\n",
        "from sklearn.preprocessing import StandardScaler\n",
        "from sklearn.metrics import r2_score\n",
        "from sklearn.model_selection import train_test_split\n",
        "import xgboost as xgb\n",
        "\n",
        "%matplotlib inline"
      ],
      "execution_count": 1,
      "outputs": [
        {
          "output_type": "stream",
          "text": [
            "/usr/local/lib/python3.6/dist-packages/statsmodels/tools/_testing.py:19: FutureWarning: pandas.util.testing is deprecated. Use the functions in the public API at pandas.testing instead.\n",
            "  import pandas.util.testing as tm\n"
          ],
          "name": "stderr"
        }
      ]
    },
    {
      "cell_type": "code",
      "metadata": {
        "id": "HQCq3cDX2Qum",
        "colab_type": "code",
        "colab": {}
      },
      "source": [
        "#load dataset\n",
        "url_train = \"https://raw.githubusercontent.com/EderBraz/Codenation_Enem_2016/master/train.csv\"\n",
        "url_test = \"https://raw.githubusercontent.com/EderBraz/Codenation_Enem_2016/master/test.csv\"\n",
        "df_train = pd.read_csv(url_train, sep=\",\",encoding=\"utf-8\")\n",
        "df_test = pd.read_csv(url_test, sep=\",\",encoding=\"utf-8\")\n"
      ],
      "execution_count": 0,
      "outputs": []
    },
    {
      "cell_type": "code",
      "metadata": {
        "id": "N0PeQ7QEm5Pz",
        "colab_type": "code",
        "outputId": "de624b22-5b07-451a-a85f-2abd0a151c87",
        "colab": {
          "base_uri": "https://localhost:8080/",
          "height": 34
        }
      },
      "source": [
        "# Creating answer_df\n",
        "answer = pd.DataFrame()\n",
        "answer['NU_INSCRICAO'] = df_test['NU_INSCRICAO']\n",
        "answer.shape"
      ],
      "execution_count": 3,
      "outputs": [
        {
          "output_type": "execute_result",
          "data": {
            "text/plain": [
              "(4576, 1)"
            ]
          },
          "metadata": {
            "tags": []
          },
          "execution_count": 3
        }
      ]
    },
    {
      "cell_type": "code",
      "metadata": {
        "id": "2K5zFISr6mVm",
        "colab_type": "code",
        "outputId": "e68d187e-0f12-4cc5-d80d-c1b1ba15ab0d",
        "colab": {
          "base_uri": "https://localhost:8080/",
          "height": 270
        }
      },
      "source": [
        "df_train.head()"
      ],
      "execution_count": 4,
      "outputs": [
        {
          "output_type": "execute_result",
          "data": {
            "text/html": [
              "<div>\n",
              "<style scoped>\n",
              "    .dataframe tbody tr th:only-of-type {\n",
              "        vertical-align: middle;\n",
              "    }\n",
              "\n",
              "    .dataframe tbody tr th {\n",
              "        vertical-align: top;\n",
              "    }\n",
              "\n",
              "    .dataframe thead th {\n",
              "        text-align: right;\n",
              "    }\n",
              "</style>\n",
              "<table border=\"1\" class=\"dataframe\">\n",
              "  <thead>\n",
              "    <tr style=\"text-align: right;\">\n",
              "      <th></th>\n",
              "      <th>Unnamed: 0</th>\n",
              "      <th>NU_INSCRICAO</th>\n",
              "      <th>NU_ANO</th>\n",
              "      <th>CO_MUNICIPIO_RESIDENCIA</th>\n",
              "      <th>NO_MUNICIPIO_RESIDENCIA</th>\n",
              "      <th>CO_UF_RESIDENCIA</th>\n",
              "      <th>SG_UF_RESIDENCIA</th>\n",
              "      <th>NU_IDADE</th>\n",
              "      <th>TP_SEXO</th>\n",
              "      <th>TP_ESTADO_CIVIL</th>\n",
              "      <th>TP_COR_RACA</th>\n",
              "      <th>TP_NACIONALIDADE</th>\n",
              "      <th>CO_MUNICIPIO_NASCIMENTO</th>\n",
              "      <th>NO_MUNICIPIO_NASCIMENTO</th>\n",
              "      <th>CO_UF_NASCIMENTO</th>\n",
              "      <th>SG_UF_NASCIMENTO</th>\n",
              "      <th>TP_ST_CONCLUSAO</th>\n",
              "      <th>TP_ANO_CONCLUIU</th>\n",
              "      <th>TP_ESCOLA</th>\n",
              "      <th>TP_ENSINO</th>\n",
              "      <th>IN_TREINEIRO</th>\n",
              "      <th>CO_ESCOLA</th>\n",
              "      <th>CO_MUNICIPIO_ESC</th>\n",
              "      <th>NO_MUNICIPIO_ESC</th>\n",
              "      <th>CO_UF_ESC</th>\n",
              "      <th>SG_UF_ESC</th>\n",
              "      <th>TP_DEPENDENCIA_ADM_ESC</th>\n",
              "      <th>TP_LOCALIZACAO_ESC</th>\n",
              "      <th>TP_SIT_FUNC_ESC</th>\n",
              "      <th>IN_BAIXA_VISAO</th>\n",
              "      <th>IN_CEGUEIRA</th>\n",
              "      <th>IN_SURDEZ</th>\n",
              "      <th>IN_DEFICIENCIA_AUDITIVA</th>\n",
              "      <th>IN_SURDO_CEGUEIRA</th>\n",
              "      <th>IN_DEFICIENCIA_FISICA</th>\n",
              "      <th>IN_DEFICIENCIA_MENTAL</th>\n",
              "      <th>IN_DEFICIT_ATENCAO</th>\n",
              "      <th>IN_DISLEXIA</th>\n",
              "      <th>IN_DISCALCULIA</th>\n",
              "      <th>IN_AUTISMO</th>\n",
              "      <th>...</th>\n",
              "      <th>Q011</th>\n",
              "      <th>Q012</th>\n",
              "      <th>Q013</th>\n",
              "      <th>Q014</th>\n",
              "      <th>Q015</th>\n",
              "      <th>Q016</th>\n",
              "      <th>Q017</th>\n",
              "      <th>Q018</th>\n",
              "      <th>Q019</th>\n",
              "      <th>Q020</th>\n",
              "      <th>Q021</th>\n",
              "      <th>Q022</th>\n",
              "      <th>Q023</th>\n",
              "      <th>Q024</th>\n",
              "      <th>Q025</th>\n",
              "      <th>Q026</th>\n",
              "      <th>Q027</th>\n",
              "      <th>Q028</th>\n",
              "      <th>Q029</th>\n",
              "      <th>Q030</th>\n",
              "      <th>Q031</th>\n",
              "      <th>Q032</th>\n",
              "      <th>Q033</th>\n",
              "      <th>Q034</th>\n",
              "      <th>Q035</th>\n",
              "      <th>Q036</th>\n",
              "      <th>Q037</th>\n",
              "      <th>Q038</th>\n",
              "      <th>Q039</th>\n",
              "      <th>Q040</th>\n",
              "      <th>Q041</th>\n",
              "      <th>Q042</th>\n",
              "      <th>Q043</th>\n",
              "      <th>Q044</th>\n",
              "      <th>Q045</th>\n",
              "      <th>Q046</th>\n",
              "      <th>Q047</th>\n",
              "      <th>Q048</th>\n",
              "      <th>Q049</th>\n",
              "      <th>Q050</th>\n",
              "    </tr>\n",
              "  </thead>\n",
              "  <tbody>\n",
              "    <tr>\n",
              "      <th>0</th>\n",
              "      <td>1</td>\n",
              "      <td>ed50e8aaa58e7a806c337585efee9ca41f1eb1ad</td>\n",
              "      <td>2016</td>\n",
              "      <td>4314902</td>\n",
              "      <td>Porto Alegre</td>\n",
              "      <td>43</td>\n",
              "      <td>RS</td>\n",
              "      <td>24</td>\n",
              "      <td>M</td>\n",
              "      <td>0.0</td>\n",
              "      <td>1</td>\n",
              "      <td>1</td>\n",
              "      <td>4314902.0</td>\n",
              "      <td>Porto Alegre</td>\n",
              "      <td>43.0</td>\n",
              "      <td>RS</td>\n",
              "      <td>1</td>\n",
              "      <td>4</td>\n",
              "      <td>1</td>\n",
              "      <td>NaN</td>\n",
              "      <td>0</td>\n",
              "      <td>NaN</td>\n",
              "      <td>NaN</td>\n",
              "      <td>NaN</td>\n",
              "      <td>NaN</td>\n",
              "      <td>NaN</td>\n",
              "      <td>NaN</td>\n",
              "      <td>NaN</td>\n",
              "      <td>NaN</td>\n",
              "      <td>0</td>\n",
              "      <td>0</td>\n",
              "      <td>0</td>\n",
              "      <td>0</td>\n",
              "      <td>0</td>\n",
              "      <td>0</td>\n",
              "      <td>0</td>\n",
              "      <td>0</td>\n",
              "      <td>0</td>\n",
              "      <td>0</td>\n",
              "      <td>0</td>\n",
              "      <td>...</td>\n",
              "      <td>A</td>\n",
              "      <td>B</td>\n",
              "      <td>A</td>\n",
              "      <td>A</td>\n",
              "      <td>A</td>\n",
              "      <td>A</td>\n",
              "      <td>A</td>\n",
              "      <td>A</td>\n",
              "      <td>B</td>\n",
              "      <td>A</td>\n",
              "      <td>A</td>\n",
              "      <td>C</td>\n",
              "      <td>A</td>\n",
              "      <td>A</td>\n",
              "      <td>A</td>\n",
              "      <td>C</td>\n",
              "      <td>H</td>\n",
              "      <td>E</td>\n",
              "      <td>5.0</td>\n",
              "      <td>5.0</td>\n",
              "      <td>1.0</td>\n",
              "      <td>0.0</td>\n",
              "      <td>0.0</td>\n",
              "      <td>5</td>\n",
              "      <td>5</td>\n",
              "      <td>0</td>\n",
              "      <td>5</td>\n",
              "      <td>5</td>\n",
              "      <td>5</td>\n",
              "      <td>5</td>\n",
              "      <td>5.0</td>\n",
              "      <td>A</td>\n",
              "      <td>A</td>\n",
              "      <td>A</td>\n",
              "      <td>A</td>\n",
              "      <td>A</td>\n",
              "      <td>A</td>\n",
              "      <td>A</td>\n",
              "      <td>B</td>\n",
              "      <td>D</td>\n",
              "    </tr>\n",
              "    <tr>\n",
              "      <th>1</th>\n",
              "      <td>2</td>\n",
              "      <td>2c3acac4b33ec2b195d77e7c04a2d75727fad723</td>\n",
              "      <td>2016</td>\n",
              "      <td>2304707</td>\n",
              "      <td>Granja</td>\n",
              "      <td>23</td>\n",
              "      <td>CE</td>\n",
              "      <td>17</td>\n",
              "      <td>F</td>\n",
              "      <td>0.0</td>\n",
              "      <td>3</td>\n",
              "      <td>1</td>\n",
              "      <td>2304707.0</td>\n",
              "      <td>Granja</td>\n",
              "      <td>23.0</td>\n",
              "      <td>CE</td>\n",
              "      <td>2</td>\n",
              "      <td>0</td>\n",
              "      <td>2</td>\n",
              "      <td>1.0</td>\n",
              "      <td>0</td>\n",
              "      <td>23005157.0</td>\n",
              "      <td>2304707.0</td>\n",
              "      <td>Granja</td>\n",
              "      <td>23.0</td>\n",
              "      <td>CE</td>\n",
              "      <td>2.0</td>\n",
              "      <td>1.0</td>\n",
              "      <td>1.0</td>\n",
              "      <td>0</td>\n",
              "      <td>0</td>\n",
              "      <td>0</td>\n",
              "      <td>0</td>\n",
              "      <td>0</td>\n",
              "      <td>0</td>\n",
              "      <td>0</td>\n",
              "      <td>0</td>\n",
              "      <td>0</td>\n",
              "      <td>0</td>\n",
              "      <td>0</td>\n",
              "      <td>...</td>\n",
              "      <td>A</td>\n",
              "      <td>B</td>\n",
              "      <td>A</td>\n",
              "      <td>A</td>\n",
              "      <td>A</td>\n",
              "      <td>A</td>\n",
              "      <td>A</td>\n",
              "      <td>A</td>\n",
              "      <td>B</td>\n",
              "      <td>A</td>\n",
              "      <td>A</td>\n",
              "      <td>A</td>\n",
              "      <td>A</td>\n",
              "      <td>A</td>\n",
              "      <td>A</td>\n",
              "      <td>A</td>\n",
              "      <td>NaN</td>\n",
              "      <td>NaN</td>\n",
              "      <td>NaN</td>\n",
              "      <td>NaN</td>\n",
              "      <td>NaN</td>\n",
              "      <td>NaN</td>\n",
              "      <td>NaN</td>\n",
              "      <td>5</td>\n",
              "      <td>5</td>\n",
              "      <td>1</td>\n",
              "      <td>1</td>\n",
              "      <td>1</td>\n",
              "      <td>1</td>\n",
              "      <td>1</td>\n",
              "      <td>NaN</td>\n",
              "      <td>A</td>\n",
              "      <td>A</td>\n",
              "      <td>C</td>\n",
              "      <td>A</td>\n",
              "      <td>B</td>\n",
              "      <td>A</td>\n",
              "      <td>A</td>\n",
              "      <td>C</td>\n",
              "      <td>A</td>\n",
              "    </tr>\n",
              "    <tr>\n",
              "      <th>2</th>\n",
              "      <td>3</td>\n",
              "      <td>f4545f8ccb9ff5c8aad7d32951b3f251a26e6568</td>\n",
              "      <td>2016</td>\n",
              "      <td>2304400</td>\n",
              "      <td>Fortaleza</td>\n",
              "      <td>23</td>\n",
              "      <td>CE</td>\n",
              "      <td>21</td>\n",
              "      <td>F</td>\n",
              "      <td>0.0</td>\n",
              "      <td>3</td>\n",
              "      <td>1</td>\n",
              "      <td>2304400.0</td>\n",
              "      <td>Fortaleza</td>\n",
              "      <td>23.0</td>\n",
              "      <td>CE</td>\n",
              "      <td>3</td>\n",
              "      <td>0</td>\n",
              "      <td>1</td>\n",
              "      <td>NaN</td>\n",
              "      <td>0</td>\n",
              "      <td>NaN</td>\n",
              "      <td>NaN</td>\n",
              "      <td>NaN</td>\n",
              "      <td>NaN</td>\n",
              "      <td>NaN</td>\n",
              "      <td>NaN</td>\n",
              "      <td>NaN</td>\n",
              "      <td>NaN</td>\n",
              "      <td>0</td>\n",
              "      <td>0</td>\n",
              "      <td>0</td>\n",
              "      <td>0</td>\n",
              "      <td>0</td>\n",
              "      <td>0</td>\n",
              "      <td>0</td>\n",
              "      <td>0</td>\n",
              "      <td>0</td>\n",
              "      <td>0</td>\n",
              "      <td>0</td>\n",
              "      <td>...</td>\n",
              "      <td>A</td>\n",
              "      <td>B</td>\n",
              "      <td>A</td>\n",
              "      <td>A</td>\n",
              "      <td>A</td>\n",
              "      <td>A</td>\n",
              "      <td>A</td>\n",
              "      <td>A</td>\n",
              "      <td>B</td>\n",
              "      <td>A</td>\n",
              "      <td>A</td>\n",
              "      <td>B</td>\n",
              "      <td>A</td>\n",
              "      <td>A</td>\n",
              "      <td>A</td>\n",
              "      <td>A</td>\n",
              "      <td>NaN</td>\n",
              "      <td>NaN</td>\n",
              "      <td>NaN</td>\n",
              "      <td>NaN</td>\n",
              "      <td>NaN</td>\n",
              "      <td>NaN</td>\n",
              "      <td>NaN</td>\n",
              "      <td>5</td>\n",
              "      <td>5</td>\n",
              "      <td>5</td>\n",
              "      <td>5</td>\n",
              "      <td>5</td>\n",
              "      <td>5</td>\n",
              "      <td>5</td>\n",
              "      <td>NaN</td>\n",
              "      <td>A</td>\n",
              "      <td>A</td>\n",
              "      <td>A</td>\n",
              "      <td>A</td>\n",
              "      <td>C</td>\n",
              "      <td>A</td>\n",
              "      <td>A</td>\n",
              "      <td>B</td>\n",
              "      <td>A</td>\n",
              "    </tr>\n",
              "    <tr>\n",
              "      <th>3</th>\n",
              "      <td>4</td>\n",
              "      <td>3d6ec248fef899c414e77f82d5c6d2bffbeaf7fe</td>\n",
              "      <td>2016</td>\n",
              "      <td>3304557</td>\n",
              "      <td>Rio de Janeiro</td>\n",
              "      <td>33</td>\n",
              "      <td>RJ</td>\n",
              "      <td>25</td>\n",
              "      <td>F</td>\n",
              "      <td>0.0</td>\n",
              "      <td>0</td>\n",
              "      <td>1</td>\n",
              "      <td>3304557.0</td>\n",
              "      <td>Rio de Janeiro</td>\n",
              "      <td>33.0</td>\n",
              "      <td>RJ</td>\n",
              "      <td>1</td>\n",
              "      <td>9</td>\n",
              "      <td>1</td>\n",
              "      <td>NaN</td>\n",
              "      <td>0</td>\n",
              "      <td>NaN</td>\n",
              "      <td>NaN</td>\n",
              "      <td>NaN</td>\n",
              "      <td>NaN</td>\n",
              "      <td>NaN</td>\n",
              "      <td>NaN</td>\n",
              "      <td>NaN</td>\n",
              "      <td>NaN</td>\n",
              "      <td>0</td>\n",
              "      <td>0</td>\n",
              "      <td>0</td>\n",
              "      <td>0</td>\n",
              "      <td>0</td>\n",
              "      <td>0</td>\n",
              "      <td>0</td>\n",
              "      <td>0</td>\n",
              "      <td>0</td>\n",
              "      <td>0</td>\n",
              "      <td>0</td>\n",
              "      <td>...</td>\n",
              "      <td>A</td>\n",
              "      <td>B</td>\n",
              "      <td>B</td>\n",
              "      <td>B</td>\n",
              "      <td>A</td>\n",
              "      <td>B</td>\n",
              "      <td>A</td>\n",
              "      <td>B</td>\n",
              "      <td>C</td>\n",
              "      <td>A</td>\n",
              "      <td>B</td>\n",
              "      <td>D</td>\n",
              "      <td>B</td>\n",
              "      <td>C</td>\n",
              "      <td>B</td>\n",
              "      <td>C</td>\n",
              "      <td>F</td>\n",
              "      <td>C</td>\n",
              "      <td>2.0</td>\n",
              "      <td>0.0</td>\n",
              "      <td>5.0</td>\n",
              "      <td>5.0</td>\n",
              "      <td>5.0</td>\n",
              "      <td>5</td>\n",
              "      <td>5</td>\n",
              "      <td>5</td>\n",
              "      <td>5</td>\n",
              "      <td>2</td>\n",
              "      <td>5</td>\n",
              "      <td>5</td>\n",
              "      <td>5.0</td>\n",
              "      <td>C</td>\n",
              "      <td>A</td>\n",
              "      <td>A</td>\n",
              "      <td>A</td>\n",
              "      <td>A</td>\n",
              "      <td>D</td>\n",
              "      <td>A</td>\n",
              "      <td>A</td>\n",
              "      <td>A</td>\n",
              "    </tr>\n",
              "    <tr>\n",
              "      <th>4</th>\n",
              "      <td>5</td>\n",
              "      <td>bf896ac8d3ecadd6dba1dfbf50110afcbf5d3268</td>\n",
              "      <td>2016</td>\n",
              "      <td>1302603</td>\n",
              "      <td>Manaus</td>\n",
              "      <td>13</td>\n",
              "      <td>AM</td>\n",
              "      <td>28</td>\n",
              "      <td>M</td>\n",
              "      <td>0.0</td>\n",
              "      <td>2</td>\n",
              "      <td>1</td>\n",
              "      <td>1505304.0</td>\n",
              "      <td>Oriximiná</td>\n",
              "      <td>15.0</td>\n",
              "      <td>PA</td>\n",
              "      <td>1</td>\n",
              "      <td>4</td>\n",
              "      <td>1</td>\n",
              "      <td>NaN</td>\n",
              "      <td>0</td>\n",
              "      <td>NaN</td>\n",
              "      <td>NaN</td>\n",
              "      <td>NaN</td>\n",
              "      <td>NaN</td>\n",
              "      <td>NaN</td>\n",
              "      <td>NaN</td>\n",
              "      <td>NaN</td>\n",
              "      <td>NaN</td>\n",
              "      <td>0</td>\n",
              "      <td>0</td>\n",
              "      <td>0</td>\n",
              "      <td>0</td>\n",
              "      <td>0</td>\n",
              "      <td>0</td>\n",
              "      <td>0</td>\n",
              "      <td>0</td>\n",
              "      <td>0</td>\n",
              "      <td>0</td>\n",
              "      <td>0</td>\n",
              "      <td>...</td>\n",
              "      <td>A</td>\n",
              "      <td>B</td>\n",
              "      <td>A</td>\n",
              "      <td>B</td>\n",
              "      <td>A</td>\n",
              "      <td>A</td>\n",
              "      <td>A</td>\n",
              "      <td>A</td>\n",
              "      <td>B</td>\n",
              "      <td>A</td>\n",
              "      <td>A</td>\n",
              "      <td>B</td>\n",
              "      <td>A</td>\n",
              "      <td>A</td>\n",
              "      <td>A</td>\n",
              "      <td>B</td>\n",
              "      <td>F</td>\n",
              "      <td>D</td>\n",
              "      <td>5.0</td>\n",
              "      <td>4.0</td>\n",
              "      <td>3.0</td>\n",
              "      <td>5.0</td>\n",
              "      <td>4.0</td>\n",
              "      <td>5</td>\n",
              "      <td>5</td>\n",
              "      <td>4</td>\n",
              "      <td>3</td>\n",
              "      <td>1</td>\n",
              "      <td>4</td>\n",
              "      <td>5</td>\n",
              "      <td>NaN</td>\n",
              "      <td>A</td>\n",
              "      <td>A</td>\n",
              "      <td>A</td>\n",
              "      <td>A</td>\n",
              "      <td>A</td>\n",
              "      <td>A</td>\n",
              "      <td>A</td>\n",
              "      <td>A</td>\n",
              "      <td>A</td>\n",
              "    </tr>\n",
              "  </tbody>\n",
              "</table>\n",
              "<p>5 rows × 167 columns</p>\n",
              "</div>"
            ],
            "text/plain": [
              "   Unnamed: 0                              NU_INSCRICAO  ...  Q049  Q050\n",
              "0           1  ed50e8aaa58e7a806c337585efee9ca41f1eb1ad  ...     B     D\n",
              "1           2  2c3acac4b33ec2b195d77e7c04a2d75727fad723  ...     C     A\n",
              "2           3  f4545f8ccb9ff5c8aad7d32951b3f251a26e6568  ...     B     A\n",
              "3           4  3d6ec248fef899c414e77f82d5c6d2bffbeaf7fe  ...     A     A\n",
              "4           5  bf896ac8d3ecadd6dba1dfbf50110afcbf5d3268  ...     A     A\n",
              "\n",
              "[5 rows x 167 columns]"
            ]
          },
          "metadata": {
            "tags": []
          },
          "execution_count": 4
        }
      ]
    },
    {
      "cell_type": "code",
      "metadata": {
        "id": "OJYnv3uj7qx1",
        "colab_type": "code",
        "outputId": "9b86e592-4543-4c0c-af7f-01b123756c04",
        "colab": {
          "base_uri": "https://localhost:8080/",
          "height": 979
        }
      },
      "source": [
        "#search for null values\n",
        "total = df_train.isnull().sum().sort_values(ascending=False)\n",
        "percent = (df_train.isnull().sum()/df_train.isnull().count()).sort_values(ascending=False)\n",
        "missing_data = pd.concat([total, percent], axis=1, keys=['Total', 'Percent'])\n",
        "missing_data.head(30)"
      ],
      "execution_count": 5,
      "outputs": [
        {
          "output_type": "execute_result",
          "data": {
            "text/html": [
              "<div>\n",
              "<style scoped>\n",
              "    .dataframe tbody tr th:only-of-type {\n",
              "        vertical-align: middle;\n",
              "    }\n",
              "\n",
              "    .dataframe tbody tr th {\n",
              "        vertical-align: top;\n",
              "    }\n",
              "\n",
              "    .dataframe thead th {\n",
              "        text-align: right;\n",
              "    }\n",
              "</style>\n",
              "<table border=\"1\" class=\"dataframe\">\n",
              "  <thead>\n",
              "    <tr style=\"text-align: right;\">\n",
              "      <th></th>\n",
              "      <th>Total</th>\n",
              "      <th>Percent</th>\n",
              "    </tr>\n",
              "  </thead>\n",
              "  <tbody>\n",
              "    <tr>\n",
              "      <th>CO_UF_ENTIDADE_CERTIFICACAO</th>\n",
              "      <td>12092</td>\n",
              "      <td>0.880699</td>\n",
              "    </tr>\n",
              "    <tr>\n",
              "      <th>NO_ENTIDADE_CERTIFICACAO</th>\n",
              "      <td>12092</td>\n",
              "      <td>0.880699</td>\n",
              "    </tr>\n",
              "    <tr>\n",
              "      <th>SG_UF_ENTIDADE_CERTIFICACAO</th>\n",
              "      <td>12092</td>\n",
              "      <td>0.880699</td>\n",
              "    </tr>\n",
              "    <tr>\n",
              "      <th>Q041</th>\n",
              "      <td>10792</td>\n",
              "      <td>0.786016</td>\n",
              "    </tr>\n",
              "    <tr>\n",
              "      <th>TP_SIT_FUNC_ESC</th>\n",
              "      <td>9448</td>\n",
              "      <td>0.688128</td>\n",
              "    </tr>\n",
              "    <tr>\n",
              "      <th>TP_LOCALIZACAO_ESC</th>\n",
              "      <td>9448</td>\n",
              "      <td>0.688128</td>\n",
              "    </tr>\n",
              "    <tr>\n",
              "      <th>TP_DEPENDENCIA_ADM_ESC</th>\n",
              "      <td>9448</td>\n",
              "      <td>0.688128</td>\n",
              "    </tr>\n",
              "    <tr>\n",
              "      <th>CO_UF_ESC</th>\n",
              "      <td>9448</td>\n",
              "      <td>0.688128</td>\n",
              "    </tr>\n",
              "    <tr>\n",
              "      <th>NO_MUNICIPIO_ESC</th>\n",
              "      <td>9448</td>\n",
              "      <td>0.688128</td>\n",
              "    </tr>\n",
              "    <tr>\n",
              "      <th>CO_MUNICIPIO_ESC</th>\n",
              "      <td>9448</td>\n",
              "      <td>0.688128</td>\n",
              "    </tr>\n",
              "    <tr>\n",
              "      <th>CO_ESCOLA</th>\n",
              "      <td>9448</td>\n",
              "      <td>0.688128</td>\n",
              "    </tr>\n",
              "    <tr>\n",
              "      <th>TP_ENSINO</th>\n",
              "      <td>9448</td>\n",
              "      <td>0.688128</td>\n",
              "    </tr>\n",
              "    <tr>\n",
              "      <th>SG_UF_ESC</th>\n",
              "      <td>9448</td>\n",
              "      <td>0.688128</td>\n",
              "    </tr>\n",
              "    <tr>\n",
              "      <th>Q033</th>\n",
              "      <td>7376</td>\n",
              "      <td>0.537218</td>\n",
              "    </tr>\n",
              "    <tr>\n",
              "      <th>Q032</th>\n",
              "      <td>7376</td>\n",
              "      <td>0.537218</td>\n",
              "    </tr>\n",
              "    <tr>\n",
              "      <th>Q031</th>\n",
              "      <td>7376</td>\n",
              "      <td>0.537218</td>\n",
              "    </tr>\n",
              "    <tr>\n",
              "      <th>Q028</th>\n",
              "      <td>7376</td>\n",
              "      <td>0.537218</td>\n",
              "    </tr>\n",
              "    <tr>\n",
              "      <th>Q030</th>\n",
              "      <td>7375</td>\n",
              "      <td>0.537145</td>\n",
              "    </tr>\n",
              "    <tr>\n",
              "      <th>Q029</th>\n",
              "      <td>7375</td>\n",
              "      <td>0.537145</td>\n",
              "    </tr>\n",
              "    <tr>\n",
              "      <th>Q027</th>\n",
              "      <td>7373</td>\n",
              "      <td>0.536999</td>\n",
              "    </tr>\n",
              "    <tr>\n",
              "      <th>NU_NOTA_COMP3</th>\n",
              "      <td>3597</td>\n",
              "      <td>0.261981</td>\n",
              "    </tr>\n",
              "    <tr>\n",
              "      <th>TX_GABARITO_MT</th>\n",
              "      <td>3597</td>\n",
              "      <td>0.261981</td>\n",
              "    </tr>\n",
              "    <tr>\n",
              "      <th>TX_RESPOSTAS_MT</th>\n",
              "      <td>3597</td>\n",
              "      <td>0.261981</td>\n",
              "    </tr>\n",
              "    <tr>\n",
              "      <th>TP_STATUS_REDACAO</th>\n",
              "      <td>3597</td>\n",
              "      <td>0.261981</td>\n",
              "    </tr>\n",
              "    <tr>\n",
              "      <th>NU_NOTA_COMP1</th>\n",
              "      <td>3597</td>\n",
              "      <td>0.261981</td>\n",
              "    </tr>\n",
              "    <tr>\n",
              "      <th>NU_NOTA_COMP2</th>\n",
              "      <td>3597</td>\n",
              "      <td>0.261981</td>\n",
              "    </tr>\n",
              "    <tr>\n",
              "      <th>TX_RESPOSTAS_LC</th>\n",
              "      <td>3597</td>\n",
              "      <td>0.261981</td>\n",
              "    </tr>\n",
              "    <tr>\n",
              "      <th>NU_NOTA_MT</th>\n",
              "      <td>3597</td>\n",
              "      <td>0.261981</td>\n",
              "    </tr>\n",
              "    <tr>\n",
              "      <th>NU_NOTA_LC</th>\n",
              "      <td>3597</td>\n",
              "      <td>0.261981</td>\n",
              "    </tr>\n",
              "    <tr>\n",
              "      <th>NU_NOTA_COMP4</th>\n",
              "      <td>3597</td>\n",
              "      <td>0.261981</td>\n",
              "    </tr>\n",
              "  </tbody>\n",
              "</table>\n",
              "</div>"
            ],
            "text/plain": [
              "                             Total   Percent\n",
              "CO_UF_ENTIDADE_CERTIFICACAO  12092  0.880699\n",
              "NO_ENTIDADE_CERTIFICACAO     12092  0.880699\n",
              "SG_UF_ENTIDADE_CERTIFICACAO  12092  0.880699\n",
              "Q041                         10792  0.786016\n",
              "TP_SIT_FUNC_ESC               9448  0.688128\n",
              "TP_LOCALIZACAO_ESC            9448  0.688128\n",
              "TP_DEPENDENCIA_ADM_ESC        9448  0.688128\n",
              "CO_UF_ESC                     9448  0.688128\n",
              "NO_MUNICIPIO_ESC              9448  0.688128\n",
              "CO_MUNICIPIO_ESC              9448  0.688128\n",
              "CO_ESCOLA                     9448  0.688128\n",
              "TP_ENSINO                     9448  0.688128\n",
              "SG_UF_ESC                     9448  0.688128\n",
              "Q033                          7376  0.537218\n",
              "Q032                          7376  0.537218\n",
              "Q031                          7376  0.537218\n",
              "Q028                          7376  0.537218\n",
              "Q030                          7375  0.537145\n",
              "Q029                          7375  0.537145\n",
              "Q027                          7373  0.536999\n",
              "NU_NOTA_COMP3                 3597  0.261981\n",
              "TX_GABARITO_MT                3597  0.261981\n",
              "TX_RESPOSTAS_MT               3597  0.261981\n",
              "TP_STATUS_REDACAO             3597  0.261981\n",
              "NU_NOTA_COMP1                 3597  0.261981\n",
              "NU_NOTA_COMP2                 3597  0.261981\n",
              "TX_RESPOSTAS_LC               3597  0.261981\n",
              "NU_NOTA_MT                    3597  0.261981\n",
              "NU_NOTA_LC                    3597  0.261981\n",
              "NU_NOTA_COMP4                 3597  0.261981"
            ]
          },
          "metadata": {
            "tags": []
          },
          "execution_count": 5
        }
      ]
    },
    {
      "cell_type": "markdown",
      "metadata": {
        "id": "WE2W-6-iXFjw",
        "colab_type": "text"
      },
      "source": [
        "###Exploratory Data Analysis"
      ]
    },
    {
      "cell_type": "code",
      "metadata": {
        "id": "ZILTf_OjWa_L",
        "colab_type": "code",
        "outputId": "afab4bf0-fba9-4655-e64e-1cbe4271ee66",
        "colab": {
          "base_uri": "https://localhost:8080/",
          "height": 1000
        }
      },
      "source": [
        "df_train.plot.scatter(x='NU_NOTA_CN', y='NU_NOTA_MT')\n",
        "df_train.plot.scatter(x='NU_NOTA_CH', y='NU_NOTA_MT')\n",
        "df_train.plot.scatter(x='NU_NOTA_LC', y='NU_NOTA_MT')\n",
        "df_train.plot.scatter(x='NU_NOTA_REDACAO', y='NU_NOTA_MT')"
      ],
      "execution_count": 6,
      "outputs": [
        {
          "output_type": "execute_result",
          "data": {
            "text/plain": [
              "<matplotlib.axes._subplots.AxesSubplot at 0x7fc3bd7e2128>"
            ]
          },
          "metadata": {
            "tags": []
          },
          "execution_count": 6
        },
        {
          "output_type": "display_data",
          "data": {
            "image/png": "[encoded data removed]",
            "text/plain": [
              "<Figure size 432x288 with 1 Axes>"
            ]
          },
          "metadata": {
            "tags": [],
            "needs_background": "light"
          }
        },
        {
          "output_type": "display_data",
          "data": {
            "image/png": "[encoded data removed]",
            "text/plain": [
              "<Figure size 432x288 with 1 Axes>"
            ]
          },
          "metadata": {
            "tags": [],
            "needs_background": "light"
          }
        },
        {
          "output_type": "display_data",
          "data": {
            "image/png": "[encoded data removed]",
            "text/plain": [
              "<Figure size 432x288 with 1 Axes>"
            ]
          },
          "metadata": {
            "tags": [],
            "needs_background": "light"
          }
        },
        {
          "output_type": "display_data",
          "data": {
            "image/png": "[encoded data removed]",
            "text/plain": [
              "<Figure size 432x288 with 1 Axes>"
            ]
          },
          "metadata": {
            "tags": [],
            "needs_background": "light"
          }
        }
      ]
    },
    {
      "cell_type": "code",
      "metadata": {
        "id": "MMWJR0gyajtK",
        "colab_type": "code",
        "outputId": "bda7c89f-1b33-4989-a71f-47b605e36d40",
        "colab": {
          "base_uri": "https://localhost:8080/",
          "height": 328
        }
      },
      "source": [
        "features = [\n",
        "    'NU_NOTA_COMP1',\n",
        "    'NU_NOTA_COMP2',\n",
        "    'NU_NOTA_COMP4',\n",
        "    'NU_NOTA_COMP5',\n",
        "    'NU_NOTA_COMP3',\n",
        "    'NU_NOTA_REDACAO',\n",
        "    'NU_NOTA_LC',\n",
        "    'NU_NOTA_CH',\n",
        "    'NU_NOTA_CN'\n",
        "]\n",
        "df_train[features].corr()"
      ],
      "execution_count": 7,
      "outputs": [
        {
          "output_type": "execute_result",
          "data": {
            "text/html": [
              "<div>\n",
              "<style scoped>\n",
              "    .dataframe tbody tr th:only-of-type {\n",
              "        vertical-align: middle;\n",
              "    }\n",
              "\n",
              "    .dataframe tbody tr th {\n",
              "        vertical-align: top;\n",
              "    }\n",
              "\n",
              "    .dataframe thead th {\n",
              "        text-align: right;\n",
              "    }\n",
              "</style>\n",
              "<table border=\"1\" class=\"dataframe\">\n",
              "  <thead>\n",
              "    <tr style=\"text-align: right;\">\n",
              "      <th></th>\n",
              "      <th>NU_NOTA_COMP1</th>\n",
              "      <th>NU_NOTA_COMP2</th>\n",
              "      <th>NU_NOTA_COMP4</th>\n",
              "      <th>NU_NOTA_COMP5</th>\n",
              "      <th>NU_NOTA_COMP3</th>\n",
              "      <th>NU_NOTA_REDACAO</th>\n",
              "      <th>NU_NOTA_LC</th>\n",
              "      <th>NU_NOTA_CH</th>\n",
              "      <th>NU_NOTA_CN</th>\n",
              "    </tr>\n",
              "  </thead>\n",
              "  <tbody>\n",
              "    <tr>\n",
              "      <th>NU_NOTA_COMP1</th>\n",
              "      <td>1.000000</td>\n",
              "      <td>0.756664</td>\n",
              "      <td>0.824538</td>\n",
              "      <td>0.558587</td>\n",
              "      <td>0.759452</td>\n",
              "      <td>0.862744</td>\n",
              "      <td>0.430603</td>\n",
              "      <td>0.443809</td>\n",
              "      <td>0.357672</td>\n",
              "    </tr>\n",
              "    <tr>\n",
              "      <th>NU_NOTA_COMP2</th>\n",
              "      <td>0.756664</td>\n",
              "      <td>1.000000</td>\n",
              "      <td>0.808006</td>\n",
              "      <td>0.655915</td>\n",
              "      <td>0.875447</td>\n",
              "      <td>0.918278</td>\n",
              "      <td>0.453262</td>\n",
              "      <td>0.488050</td>\n",
              "      <td>0.412894</td>\n",
              "    </tr>\n",
              "    <tr>\n",
              "      <th>NU_NOTA_COMP4</th>\n",
              "      <td>0.824538</td>\n",
              "      <td>0.808006</td>\n",
              "      <td>1.000000</td>\n",
              "      <td>0.635018</td>\n",
              "      <td>0.827151</td>\n",
              "      <td>0.914505</td>\n",
              "      <td>0.467356</td>\n",
              "      <td>0.488797</td>\n",
              "      <td>0.407747</td>\n",
              "    </tr>\n",
              "    <tr>\n",
              "      <th>NU_NOTA_COMP5</th>\n",
              "      <td>0.558587</td>\n",
              "      <td>0.655915</td>\n",
              "      <td>0.635018</td>\n",
              "      <td>1.000000</td>\n",
              "      <td>0.664350</td>\n",
              "      <td>0.816248</td>\n",
              "      <td>0.441696</td>\n",
              "      <td>0.494798</td>\n",
              "      <td>0.416349</td>\n",
              "    </tr>\n",
              "    <tr>\n",
              "      <th>NU_NOTA_COMP3</th>\n",
              "      <td>0.759452</td>\n",
              "      <td>0.875447</td>\n",
              "      <td>0.827151</td>\n",
              "      <td>0.664350</td>\n",
              "      <td>1.000000</td>\n",
              "      <td>0.925813</td>\n",
              "      <td>0.475390</td>\n",
              "      <td>0.510452</td>\n",
              "      <td>0.429447</td>\n",
              "    </tr>\n",
              "    <tr>\n",
              "      <th>NU_NOTA_REDACAO</th>\n",
              "      <td>0.862744</td>\n",
              "      <td>0.918278</td>\n",
              "      <td>0.914505</td>\n",
              "      <td>0.816248</td>\n",
              "      <td>0.925813</td>\n",
              "      <td>1.000000</td>\n",
              "      <td>0.512908</td>\n",
              "      <td>0.550582</td>\n",
              "      <td>0.459938</td>\n",
              "    </tr>\n",
              "    <tr>\n",
              "      <th>NU_NOTA_LC</th>\n",
              "      <td>0.430603</td>\n",
              "      <td>0.453262</td>\n",
              "      <td>0.467356</td>\n",
              "      <td>0.441696</td>\n",
              "      <td>0.475390</td>\n",
              "      <td>0.512908</td>\n",
              "      <td>1.000000</td>\n",
              "      <td>0.692988</td>\n",
              "      <td>0.545667</td>\n",
              "    </tr>\n",
              "    <tr>\n",
              "      <th>NU_NOTA_CH</th>\n",
              "      <td>0.443809</td>\n",
              "      <td>0.488050</td>\n",
              "      <td>0.488797</td>\n",
              "      <td>0.494798</td>\n",
              "      <td>0.510452</td>\n",
              "      <td>0.550582</td>\n",
              "      <td>0.692988</td>\n",
              "      <td>1.000000</td>\n",
              "      <td>0.609543</td>\n",
              "    </tr>\n",
              "    <tr>\n",
              "      <th>NU_NOTA_CN</th>\n",
              "      <td>0.357672</td>\n",
              "      <td>0.412894</td>\n",
              "      <td>0.407747</td>\n",
              "      <td>0.416349</td>\n",
              "      <td>0.429447</td>\n",
              "      <td>0.459938</td>\n",
              "      <td>0.545667</td>\n",
              "      <td>0.609543</td>\n",
              "      <td>1.000000</td>\n",
              "    </tr>\n",
              "  </tbody>\n",
              "</table>\n",
              "</div>"
            ],
            "text/plain": [
              "                 NU_NOTA_COMP1  NU_NOTA_COMP2  ...  NU_NOTA_CH  NU_NOTA_CN\n",
              "NU_NOTA_COMP1         1.000000       0.756664  ...    0.443809    0.357672\n",
              "NU_NOTA_COMP2         0.756664       1.000000  ...    0.488050    0.412894\n",
              "NU_NOTA_COMP4         0.824538       0.808006  ...    0.488797    0.407747\n",
              "NU_NOTA_COMP5         0.558587       0.655915  ...    0.494798    0.416349\n",
              "NU_NOTA_COMP3         0.759452       0.875447  ...    0.510452    0.429447\n",
              "NU_NOTA_REDACAO       0.862744       0.918278  ...    0.550582    0.459938\n",
              "NU_NOTA_LC            0.430603       0.453262  ...    0.692988    0.545667\n",
              "NU_NOTA_CH            0.443809       0.488050  ...    1.000000    0.609543\n",
              "NU_NOTA_CN            0.357672       0.412894  ...    0.609543    1.000000\n",
              "\n",
              "[9 rows x 9 columns]"
            ]
          },
          "metadata": {
            "tags": []
          },
          "execution_count": 7
        }
      ]
    },
    {
      "cell_type": "code",
      "metadata": {
        "id": "PMCHJgTVei5E",
        "colab_type": "code",
        "outputId": "e0624af6-20d7-4caf-9348-e5fc88ff29f4",
        "colab": {
          "base_uri": "https://localhost:8080/",
          "height": 479
        }
      },
      "source": [
        "plt.figure(figsize=(9,6))\n",
        "plt.title('Train Features')\n",
        "sns.heatmap(df_train[features].corr(), annot=True, cmap='Reds')\n",
        "plt.xticks(rotation=70)\n",
        "plt.show()"
      ],
      "execution_count": 8,
      "outputs": [
        {
          "output_type": "display_data",
          "data": {
            "image/png": "[encoded data removed]",
            "text/plain": [
              "<Figure size 648x432 with 2 Axes>"
            ]
          },
          "metadata": {
            "tags": [],
            "needs_background": "light"
          }
        }
      ]
    },
    {
      "cell_type": "code",
      "metadata": {
        "id": "0KySGn_rgAaC",
        "colab_type": "code",
        "outputId": "475bae61-2cbf-4cfa-a1df-48b0e9602272",
        "colab": {
          "base_uri": "https://localhost:8080/",
          "height": 328
        }
      },
      "source": [
        "df_test[features].corr()"
      ],
      "execution_count": 9,
      "outputs": [
        {
          "output_type": "execute_result",
          "data": {
            "text/html": [
              "<div>\n",
              "<style scoped>\n",
              "    .dataframe tbody tr th:only-of-type {\n",
              "        vertical-align: middle;\n",
              "    }\n",
              "\n",
              "    .dataframe tbody tr th {\n",
              "        vertical-align: top;\n",
              "    }\n",
              "\n",
              "    .dataframe thead th {\n",
              "        text-align: right;\n",
              "    }\n",
              "</style>\n",
              "<table border=\"1\" class=\"dataframe\">\n",
              "  <thead>\n",
              "    <tr style=\"text-align: right;\">\n",
              "      <th></th>\n",
              "      <th>NU_NOTA_COMP1</th>\n",
              "      <th>NU_NOTA_COMP2</th>\n",
              "      <th>NU_NOTA_COMP4</th>\n",
              "      <th>NU_NOTA_COMP5</th>\n",
              "      <th>NU_NOTA_COMP3</th>\n",
              "      <th>NU_NOTA_REDACAO</th>\n",
              "      <th>NU_NOTA_LC</th>\n",
              "      <th>NU_NOTA_CH</th>\n",
              "      <th>NU_NOTA_CN</th>\n",
              "    </tr>\n",
              "  </thead>\n",
              "  <tbody>\n",
              "    <tr>\n",
              "      <th>NU_NOTA_COMP1</th>\n",
              "      <td>1.000000</td>\n",
              "      <td>0.758740</td>\n",
              "      <td>0.818071</td>\n",
              "      <td>0.546895</td>\n",
              "      <td>0.755680</td>\n",
              "      <td>0.858868</td>\n",
              "      <td>0.429795</td>\n",
              "      <td>0.434293</td>\n",
              "      <td>0.352608</td>\n",
              "    </tr>\n",
              "    <tr>\n",
              "      <th>NU_NOTA_COMP2</th>\n",
              "      <td>0.758740</td>\n",
              "      <td>1.000000</td>\n",
              "      <td>0.810890</td>\n",
              "      <td>0.645249</td>\n",
              "      <td>0.873625</td>\n",
              "      <td>0.918151</td>\n",
              "      <td>0.435176</td>\n",
              "      <td>0.467964</td>\n",
              "      <td>0.390462</td>\n",
              "    </tr>\n",
              "    <tr>\n",
              "      <th>NU_NOTA_COMP4</th>\n",
              "      <td>0.818071</td>\n",
              "      <td>0.810890</td>\n",
              "      <td>1.000000</td>\n",
              "      <td>0.619196</td>\n",
              "      <td>0.829071</td>\n",
              "      <td>0.912078</td>\n",
              "      <td>0.453682</td>\n",
              "      <td>0.485807</td>\n",
              "      <td>0.395787</td>\n",
              "    </tr>\n",
              "    <tr>\n",
              "      <th>NU_NOTA_COMP5</th>\n",
              "      <td>0.546895</td>\n",
              "      <td>0.645249</td>\n",
              "      <td>0.619196</td>\n",
              "      <td>1.000000</td>\n",
              "      <td>0.660097</td>\n",
              "      <td>0.810889</td>\n",
              "      <td>0.422711</td>\n",
              "      <td>0.478836</td>\n",
              "      <td>0.395588</td>\n",
              "    </tr>\n",
              "    <tr>\n",
              "      <th>NU_NOTA_COMP3</th>\n",
              "      <td>0.755680</td>\n",
              "      <td>0.873625</td>\n",
              "      <td>0.829071</td>\n",
              "      <td>0.660097</td>\n",
              "      <td>1.000000</td>\n",
              "      <td>0.926185</td>\n",
              "      <td>0.447566</td>\n",
              "      <td>0.492713</td>\n",
              "      <td>0.409225</td>\n",
              "    </tr>\n",
              "    <tr>\n",
              "      <th>NU_NOTA_REDACAO</th>\n",
              "      <td>0.858868</td>\n",
              "      <td>0.918151</td>\n",
              "      <td>0.912078</td>\n",
              "      <td>0.810889</td>\n",
              "      <td>0.926185</td>\n",
              "      <td>1.000000</td>\n",
              "      <td>0.495745</td>\n",
              "      <td>0.537141</td>\n",
              "      <td>0.442692</td>\n",
              "    </tr>\n",
              "    <tr>\n",
              "      <th>NU_NOTA_LC</th>\n",
              "      <td>0.429795</td>\n",
              "      <td>0.435176</td>\n",
              "      <td>0.453682</td>\n",
              "      <td>0.422711</td>\n",
              "      <td>0.447566</td>\n",
              "      <td>0.495745</td>\n",
              "      <td>1.000000</td>\n",
              "      <td>0.679993</td>\n",
              "      <td>0.545801</td>\n",
              "    </tr>\n",
              "    <tr>\n",
              "      <th>NU_NOTA_CH</th>\n",
              "      <td>0.434293</td>\n",
              "      <td>0.467964</td>\n",
              "      <td>0.485807</td>\n",
              "      <td>0.478836</td>\n",
              "      <td>0.492713</td>\n",
              "      <td>0.537141</td>\n",
              "      <td>0.679993</td>\n",
              "      <td>1.000000</td>\n",
              "      <td>0.598574</td>\n",
              "    </tr>\n",
              "    <tr>\n",
              "      <th>NU_NOTA_CN</th>\n",
              "      <td>0.352608</td>\n",
              "      <td>0.390462</td>\n",
              "      <td>0.395787</td>\n",
              "      <td>0.395588</td>\n",
              "      <td>0.409225</td>\n",
              "      <td>0.442692</td>\n",
              "      <td>0.545801</td>\n",
              "      <td>0.598574</td>\n",
              "      <td>1.000000</td>\n",
              "    </tr>\n",
              "  </tbody>\n",
              "</table>\n",
              "</div>"
            ],
            "text/plain": [
              "                 NU_NOTA_COMP1  NU_NOTA_COMP2  ...  NU_NOTA_CH  NU_NOTA_CN\n",
              "NU_NOTA_COMP1         1.000000       0.758740  ...    0.434293    0.352608\n",
              "NU_NOTA_COMP2         0.758740       1.000000  ...    0.467964    0.390462\n",
              "NU_NOTA_COMP4         0.818071       0.810890  ...    0.485807    0.395787\n",
              "NU_NOTA_COMP5         0.546895       0.645249  ...    0.478836    0.395588\n",
              "NU_NOTA_COMP3         0.755680       0.873625  ...    0.492713    0.409225\n",
              "NU_NOTA_REDACAO       0.858868       0.918151  ...    0.537141    0.442692\n",
              "NU_NOTA_LC            0.429795       0.435176  ...    0.679993    0.545801\n",
              "NU_NOTA_CH            0.434293       0.467964  ...    1.000000    0.598574\n",
              "NU_NOTA_CN            0.352608       0.390462  ...    0.598574    1.000000\n",
              "\n",
              "[9 rows x 9 columns]"
            ]
          },
          "metadata": {
            "tags": []
          },
          "execution_count": 9
        }
      ]
    },
    {
      "cell_type": "code",
      "metadata": {
        "id": "w2lq2lKgewQZ",
        "colab_type": "code",
        "outputId": "fb01b214-6ee1-4fe5-95c2-f84509e8630d",
        "colab": {
          "base_uri": "https://localhost:8080/",
          "height": 479
        }
      },
      "source": [
        "plt.figure(figsize=(9,6))\n",
        "plt.title('Test Features')\n",
        "sns.heatmap(df_test[features].corr(), annot=True, cmap='Reds')\n",
        "plt.xticks(rotation=70)\n",
        "plt.show()"
      ],
      "execution_count": 10,
      "outputs": [
        {
          "output_type": "display_data",
          "data": {
            "image/png": "[encoded data removed]",
            "text/plain": [
              "<Figure size 648x432 with 2 Axes>"
            ]
          },
          "metadata": {
            "tags": [],
            "needs_background": "light"
          }
        }
      ]
    },
    {
      "cell_type": "markdown",
      "metadata": {
        "id": "vg4noP8PjoFw",
        "colab_type": "text"
      },
      "source": [
        "##Data Preprocessing\n"
      ]
    },
    {
      "cell_type": "markdown",
      "metadata": {
        "id": "fjEF1JsYlA6W",
        "colab_type": "text"
      },
      "source": [
        "* checking for null values\n"
      ]
    },
    {
      "cell_type": "code",
      "metadata": {
        "id": "NHNyEAGWkeL-",
        "colab_type": "code",
        "outputId": "3a92975f-4188-482c-d413-b02edfed21a7",
        "colab": {
          "base_uri": "https://localhost:8080/",
          "height": 187
        }
      },
      "source": [
        "df_train[features].isnull().sum()\n"
      ],
      "execution_count": 11,
      "outputs": [
        {
          "output_type": "execute_result",
          "data": {
            "text/plain": [
              "NU_NOTA_COMP1      3597\n",
              "NU_NOTA_COMP2      3597\n",
              "NU_NOTA_COMP4      3597\n",
              "NU_NOTA_COMP5      3597\n",
              "NU_NOTA_COMP3      3597\n",
              "NU_NOTA_REDACAO    3597\n",
              "NU_NOTA_LC         3597\n",
              "NU_NOTA_CH         3389\n",
              "NU_NOTA_CN         3389\n",
              "dtype: int64"
            ]
          },
          "metadata": {
            "tags": []
          },
          "execution_count": 11
        }
      ]
    },
    {
      "cell_type": "code",
      "metadata": {
        "id": "y4Yjsxx7kl7w",
        "colab_type": "code",
        "outputId": "0f2251af-f0ed-4d7f-b5e9-d1a65b8f8c02",
        "colab": {
          "base_uri": "https://localhost:8080/",
          "height": 34
        }
      },
      "source": [
        "df_train['NU_NOTA_MT'].isnull().sum()\n"
      ],
      "execution_count": 12,
      "outputs": [
        {
          "output_type": "execute_result",
          "data": {
            "text/plain": [
              "3597"
            ]
          },
          "metadata": {
            "tags": []
          },
          "execution_count": 12
        }
      ]
    },
    {
      "cell_type": "code",
      "metadata": {
        "id": "tLOV_F7PkrmL",
        "colab_type": "code",
        "outputId": "8dd55651-fb19-4bb0-b38a-e6bf7dc5fc2e",
        "colab": {
          "base_uri": "https://localhost:8080/",
          "height": 187
        }
      },
      "source": [
        "df_test[features].isnull().sum()\n"
      ],
      "execution_count": 13,
      "outputs": [
        {
          "output_type": "execute_result",
          "data": {
            "text/plain": [
              "NU_NOTA_COMP1      1199\n",
              "NU_NOTA_COMP2      1199\n",
              "NU_NOTA_COMP4      1199\n",
              "NU_NOTA_COMP5      1199\n",
              "NU_NOTA_COMP3      1199\n",
              "NU_NOTA_REDACAO    1199\n",
              "NU_NOTA_LC         1199\n",
              "NU_NOTA_CH         1134\n",
              "NU_NOTA_CN         1134\n",
              "dtype: int64"
            ]
          },
          "metadata": {
            "tags": []
          },
          "execution_count": 13
        }
      ]
    },
    {
      "cell_type": "markdown",
      "metadata": {
        "id": "nvfLtFWXlMOr",
        "colab_type": "text"
      },
      "source": [
        "* Filling null values with zeros\n"
      ]
    },
    {
      "cell_type": "code",
      "metadata": {
        "id": "5sKOuos7kxYe",
        "colab_type": "code",
        "colab": {}
      },
      "source": [
        "df_train['NU_NOTA_CN'].fillna(0, inplace=True)\n",
        "df_train['NU_NOTA_CH'].fillna(0, inplace=True)\n",
        "df_train['NU_NOTA_REDACAO'].fillna(0, inplace=True)\n",
        "df_train['NU_NOTA_LC'].fillna(0, inplace=True)\n",
        "df_train['NU_NOTA_MT'].fillna(0, inplace=True)\n",
        "df_train['NU_NOTA_COMP1'].fillna(0, inplace=True)\n",
        "df_train['NU_NOTA_COMP2'].fillna(0, inplace=True)\n",
        "df_train['NU_NOTA_COMP3'].fillna(0, inplace=True)\n",
        "df_train['NU_NOTA_COMP4'].fillna(0, inplace=True)\n",
        "df_train['NU_NOTA_COMP5'].fillna(0, inplace=True)\n",
        "df_test['NU_NOTA_CN'].fillna(0, inplace=True)\n",
        "df_test['NU_NOTA_CH'].fillna(0, inplace=True)\n",
        "df_test['NU_NOTA_REDACAO'].fillna(0, inplace=True)\n",
        "df_test['NU_NOTA_LC'].fillna(0, inplace=True)\n",
        "df_test['NU_NOTA_COMP1'].fillna(0, inplace=True)\n",
        "df_test['NU_NOTA_COMP2'].fillna(0, inplace=True)\n",
        "df_test['NU_NOTA_COMP3'].fillna(0, inplace=True)\n",
        "df_test['NU_NOTA_COMP4'].fillna(0, inplace=True)\n",
        "df_test['NU_NOTA_COMP5'].fillna(0, inplace=True)"
      ],
      "execution_count": 0,
      "outputs": []
    },
    {
      "cell_type": "markdown",
      "metadata": {
        "id": "pL7GqP4ilhAd",
        "colab_type": "text"
      },
      "source": [
        "* checking values"
      ]
    },
    {
      "cell_type": "code",
      "metadata": {
        "id": "OmZJtoRLlY_y",
        "colab_type": "code",
        "outputId": "7705f8ee-8e2d-4135-decf-a27632d9635e",
        "colab": {
          "base_uri": "https://localhost:8080/",
          "height": 187
        }
      },
      "source": [
        "df_train[features].isnull().sum()\n"
      ],
      "execution_count": 15,
      "outputs": [
        {
          "output_type": "execute_result",
          "data": {
            "text/plain": [
              "NU_NOTA_COMP1      0\n",
              "NU_NOTA_COMP2      0\n",
              "NU_NOTA_COMP4      0\n",
              "NU_NOTA_COMP5      0\n",
              "NU_NOTA_COMP3      0\n",
              "NU_NOTA_REDACAO    0\n",
              "NU_NOTA_LC         0\n",
              "NU_NOTA_CH         0\n",
              "NU_NOTA_CN         0\n",
              "dtype: int64"
            ]
          },
          "metadata": {
            "tags": []
          },
          "execution_count": 15
        }
      ]
    },
    {
      "cell_type": "code",
      "metadata": {
        "id": "Hku9KfMPprOi",
        "colab_type": "code",
        "outputId": "4715a5c2-b233-4a65-c158-474405abbdc5",
        "colab": {
          "base_uri": "https://localhost:8080/",
          "height": 187
        }
      },
      "source": [
        "df_test[features].isnull().sum()"
      ],
      "execution_count": 16,
      "outputs": [
        {
          "output_type": "execute_result",
          "data": {
            "text/plain": [
              "NU_NOTA_COMP1      0\n",
              "NU_NOTA_COMP2      0\n",
              "NU_NOTA_COMP4      0\n",
              "NU_NOTA_COMP5      0\n",
              "NU_NOTA_COMP3      0\n",
              "NU_NOTA_REDACAO    0\n",
              "NU_NOTA_LC         0\n",
              "NU_NOTA_CH         0\n",
              "NU_NOTA_CN         0\n",
              "dtype: int64"
            ]
          },
          "metadata": {
            "tags": []
          },
          "execution_count": 16
        }
      ]
    },
    {
      "cell_type": "code",
      "metadata": {
        "id": "7GJOGrOxfASh",
        "colab_type": "code",
        "outputId": "a07e3e3e-6f46-4c22-88af-e07c60455cf8",
        "colab": {
          "base_uri": "https://localhost:8080/",
          "height": 204
        }
      },
      "source": [
        "X = df_train[features]\n",
        "X.head()"
      ],
      "execution_count": 17,
      "outputs": [
        {
          "output_type": "execute_result",
          "data": {
            "text/html": [
              "<div>\n",
              "<style scoped>\n",
              "    .dataframe tbody tr th:only-of-type {\n",
              "        vertical-align: middle;\n",
              "    }\n",
              "\n",
              "    .dataframe tbody tr th {\n",
              "        vertical-align: top;\n",
              "    }\n",
              "\n",
              "    .dataframe thead th {\n",
              "        text-align: right;\n",
              "    }\n",
              "</style>\n",
              "<table border=\"1\" class=\"dataframe\">\n",
              "  <thead>\n",
              "    <tr style=\"text-align: right;\">\n",
              "      <th></th>\n",
              "      <th>NU_NOTA_COMP1</th>\n",
              "      <th>NU_NOTA_COMP2</th>\n",
              "      <th>NU_NOTA_COMP4</th>\n",
              "      <th>NU_NOTA_COMP5</th>\n",
              "      <th>NU_NOTA_COMP3</th>\n",
              "      <th>NU_NOTA_REDACAO</th>\n",
              "      <th>NU_NOTA_LC</th>\n",
              "      <th>NU_NOTA_CH</th>\n",
              "      <th>NU_NOTA_CN</th>\n",
              "    </tr>\n",
              "  </thead>\n",
              "  <tbody>\n",
              "    <tr>\n",
              "      <th>0</th>\n",
              "      <td>120.0</td>\n",
              "      <td>120.0</td>\n",
              "      <td>80.0</td>\n",
              "      <td>80.0</td>\n",
              "      <td>120.0</td>\n",
              "      <td>520.0</td>\n",
              "      <td>581.2</td>\n",
              "      <td>495.4</td>\n",
              "      <td>436.3</td>\n",
              "    </tr>\n",
              "    <tr>\n",
              "      <th>1</th>\n",
              "      <td>140.0</td>\n",
              "      <td>120.0</td>\n",
              "      <td>120.0</td>\n",
              "      <td>80.0</td>\n",
              "      <td>120.0</td>\n",
              "      <td>580.0</td>\n",
              "      <td>599.0</td>\n",
              "      <td>544.1</td>\n",
              "      <td>474.5</td>\n",
              "    </tr>\n",
              "    <tr>\n",
              "      <th>2</th>\n",
              "      <td>0.0</td>\n",
              "      <td>0.0</td>\n",
              "      <td>0.0</td>\n",
              "      <td>0.0</td>\n",
              "      <td>0.0</td>\n",
              "      <td>0.0</td>\n",
              "      <td>0.0</td>\n",
              "      <td>0.0</td>\n",
              "      <td>0.0</td>\n",
              "    </tr>\n",
              "    <tr>\n",
              "      <th>3</th>\n",
              "      <td>0.0</td>\n",
              "      <td>0.0</td>\n",
              "      <td>0.0</td>\n",
              "      <td>0.0</td>\n",
              "      <td>0.0</td>\n",
              "      <td>0.0</td>\n",
              "      <td>0.0</td>\n",
              "      <td>0.0</td>\n",
              "      <td>0.0</td>\n",
              "    </tr>\n",
              "    <tr>\n",
              "      <th>4</th>\n",
              "      <td>0.0</td>\n",
              "      <td>0.0</td>\n",
              "      <td>0.0</td>\n",
              "      <td>0.0</td>\n",
              "      <td>0.0</td>\n",
              "      <td>0.0</td>\n",
              "      <td>0.0</td>\n",
              "      <td>0.0</td>\n",
              "      <td>0.0</td>\n",
              "    </tr>\n",
              "  </tbody>\n",
              "</table>\n",
              "</div>"
            ],
            "text/plain": [
              "   NU_NOTA_COMP1  NU_NOTA_COMP2  ...  NU_NOTA_CH  NU_NOTA_CN\n",
              "0          120.0          120.0  ...       495.4       436.3\n",
              "1          140.0          120.0  ...       544.1       474.5\n",
              "2            0.0            0.0  ...         0.0         0.0\n",
              "3            0.0            0.0  ...         0.0         0.0\n",
              "4            0.0            0.0  ...         0.0         0.0\n",
              "\n",
              "[5 rows x 9 columns]"
            ]
          },
          "metadata": {
            "tags": []
          },
          "execution_count": 17
        }
      ]
    },
    {
      "cell_type": "code",
      "metadata": {
        "id": "p3BeTcE6gsJw",
        "colab_type": "code",
        "outputId": "e1a7d9b4-14f3-433e-a2f3-15c0becf449c",
        "colab": {
          "base_uri": "https://localhost:8080/",
          "height": 119
        }
      },
      "source": [
        "y = df_train['NU_NOTA_MT']\n",
        "y.head()\n"
      ],
      "execution_count": 18,
      "outputs": [
        {
          "output_type": "execute_result",
          "data": {
            "text/plain": [
              "0    399.4\n",
              "1    459.8\n",
              "2      0.0\n",
              "3      0.0\n",
              "4      0.0\n",
              "Name: NU_NOTA_MT, dtype: float64"
            ]
          },
          "metadata": {
            "tags": []
          },
          "execution_count": 18
        }
      ]
    },
    {
      "cell_type": "code",
      "metadata": {
        "id": "UnbrMq0FgtJB",
        "colab_type": "code",
        "colab": {}
      },
      "source": [
        "validation_data = df_test.copy()\n",
        "validation_data_1 = validation_data.loc[:, features]\n",
        "validation_data_2 = validation_data.loc[:, features]\n",
        "\n",
        "train_X, validation_X, train_y, validation_y = train_test_split(X, y, random_state = 0)\n",
        "X_train, X_test, y_train, y_test = train_test_split(X, y, test_size=0.2, random_state=123)"
      ],
      "execution_count": 0,
      "outputs": []
    },
    {
      "cell_type": "code",
      "metadata": {
        "id": "z4e8k1qEgyZY",
        "colab_type": "code",
        "colab": {}
      },
      "source": [
        "sc = StandardScaler()\n",
        "sc.fit(X_train)\n",
        "X_train = sc.transform(X_train)\n",
        "X_test = sc.transform(X_test)"
      ],
      "execution_count": 0,
      "outputs": []
    },
    {
      "cell_type": "markdown",
      "metadata": {
        "id": "F__WKmqPhn1H",
        "colab_type": "text"
      },
      "source": [
        "## Models\n",
        "\n"
      ]
    },
    {
      "cell_type": "markdown",
      "metadata": {
        "id": "I0OfhUMAhugZ",
        "colab_type": "text"
      },
      "source": [
        "### Linear Regression"
      ]
    },
    {
      "cell_type": "code",
      "metadata": {
        "id": "hAwYPPH_g49I",
        "colab_type": "code",
        "outputId": "d12d1cde-7bd8-4094-84ee-41ef871876b0",
        "colab": {
          "base_uri": "https://localhost:8080/",
          "height": 34
        }
      },
      "source": [
        "lr = LinearRegression()\n",
        "lr.fit(X_train, y_train)"
      ],
      "execution_count": 21,
      "outputs": [
        {
          "output_type": "execute_result",
          "data": {
            "text/plain": [
              "LinearRegression(copy_X=True, fit_intercept=True, n_jobs=None, normalize=False)"
            ]
          },
          "metadata": {
            "tags": []
          },
          "execution_count": 21
        }
      ]
    },
    {
      "cell_type": "code",
      "metadata": {
        "id": "CLblx-Gbo8-P",
        "colab_type": "code",
        "colab": {}
      },
      "source": [
        "# Getting predictions\n",
        "y_pred = lr.predict(X_test)"
      ],
      "execution_count": 0,
      "outputs": []
    },
    {
      "cell_type": "code",
      "metadata": {
        "id": "_sVVVdkQo_9I",
        "colab_type": "code",
        "outputId": "5a77e08b-4e9a-403c-e117-23817a790e6a",
        "colab": {
          "base_uri": "https://localhost:8080/",
          "height": 34
        }
      },
      "source": [
        "# Getting r2 score\n",
        "r2_score(y_test, y_pred)"
      ],
      "execution_count": 23,
      "outputs": [
        {
          "output_type": "execute_result",
          "data": {
            "text/plain": [
              "0.9021194805200762"
            ]
          },
          "metadata": {
            "tags": []
          },
          "execution_count": 23
        }
      ]
    },
    {
      "cell_type": "code",
      "metadata": {
        "id": "DTbl9lTVi1u2",
        "colab_type": "code",
        "colab": {}
      },
      "source": [
        "y_pred = lr.predict(validation_data_1)"
      ],
      "execution_count": 0,
      "outputs": []
    },
    {
      "cell_type": "markdown",
      "metadata": {
        "id": "Ce-6JM_fndMY",
        "colab_type": "text"
      },
      "source": [
        "### XGBOOST"
      ]
    },
    {
      "cell_type": "code",
      "metadata": {
        "id": "DXT6lGQP1Oq9",
        "colab_type": "code",
        "outputId": "20d1d347-23c0-40b5-fba1-a4cb22f67d42",
        "colab": {
          "base_uri": "https://localhost:8080/",
          "height": 34
        }
      },
      "source": [
        "model = xgb.XGBRegressor(n_estimators=200, learning_rate=0.1)\n",
        "model.fit(train_X, train_y, early_stopping_rounds=5, eval_set=[(validation_X, validation_y)], verbose=False)\n",
        "\n",
        "#validation_data_1.drop(['NU_INSCRICAO'], axis=1, inplace=True)\n",
        "predicted_nota = model.predict(validation_data_1)\n",
        "#answer_df = pd.DataFrame({'NU_INSCRICAO': validation_data_2.NU_INSCRICAO, 'NU_NOTA_LC': validation_data_2.NU_NOTA_LC, 'NU_NOTA_MT_PREDICT': predicted_nota})"
      ],
      "execution_count": 24,
      "outputs": [
        {
          "output_type": "stream",
          "text": [
            "[00:45:47] WARNING: /workspace/src/objective/regression_obj.cu:152: reg:linear is now deprecated in favor of reg:squarederror.\n"
          ],
          "name": "stdout"
        }
      ]
    },
    {
      "cell_type": "code",
      "metadata": {
        "id": "SAdWTb3SiRjn",
        "colab_type": "code",
        "outputId": "db08d5be-36ac-4d1e-948e-ca191e44abaa",
        "colab": {
          "base_uri": "https://localhost:8080/",
          "height": 204
        }
      },
      "source": [
        "answer['NU_NOTA_MT'] = predicted_nota\n",
        "answer.head()\n"
      ],
      "execution_count": 30,
      "outputs": [
        {
          "output_type": "execute_result",
          "data": {
            "text/html": [
              "<div>\n",
              "<style scoped>\n",
              "    .dataframe tbody tr th:only-of-type {\n",
              "        vertical-align: middle;\n",
              "    }\n",
              "\n",
              "    .dataframe tbody tr th {\n",
              "        vertical-align: top;\n",
              "    }\n",
              "\n",
              "    .dataframe thead th {\n",
              "        text-align: right;\n",
              "    }\n",
              "</style>\n",
              "<table border=\"1\" class=\"dataframe\">\n",
              "  <thead>\n",
              "    <tr style=\"text-align: right;\">\n",
              "      <th></th>\n",
              "      <th>NU_INSCRICAO</th>\n",
              "      <th>NU_NOTA_MT</th>\n",
              "    </tr>\n",
              "  </thead>\n",
              "  <tbody>\n",
              "    <tr>\n",
              "      <th>0</th>\n",
              "      <td>73ff9fcc02f0a99919906c942c2e1a1042cdcf98</td>\n",
              "      <td>431.835815</td>\n",
              "    </tr>\n",
              "    <tr>\n",
              "      <th>1</th>\n",
              "      <td>71a95f9f1b91a82c65ad94abbdf9f54e6066f968</td>\n",
              "      <td>450.068115</td>\n",
              "    </tr>\n",
              "    <tr>\n",
              "      <th>2</th>\n",
              "      <td>b38a03232f43b11c9d0788abaf060f7366053b6d</td>\n",
              "      <td>591.803955</td>\n",
              "    </tr>\n",
              "    <tr>\n",
              "      <th>3</th>\n",
              "      <td>70b682d9a3636be23f6120fa9d6b164eb3c6002d</td>\n",
              "      <td>0.712607</td>\n",
              "    </tr>\n",
              "    <tr>\n",
              "      <th>4</th>\n",
              "      <td>715494628a50142ce8cb17191cfe6d0f3cae0934</td>\n",
              "      <td>551.872559</td>\n",
              "    </tr>\n",
              "  </tbody>\n",
              "</table>\n",
              "</div>"
            ],
            "text/plain": [
              "                               NU_INSCRICAO  NU_NOTA_MT\n",
              "0  73ff9fcc02f0a99919906c942c2e1a1042cdcf98  431.835815\n",
              "1  71a95f9f1b91a82c65ad94abbdf9f54e6066f968  450.068115\n",
              "2  b38a03232f43b11c9d0788abaf060f7366053b6d  591.803955\n",
              "3  70b682d9a3636be23f6120fa9d6b164eb3c6002d    0.712607\n",
              "4  715494628a50142ce8cb17191cfe6d0f3cae0934  551.872559"
            ]
          },
          "metadata": {
            "tags": []
          },
          "execution_count": 30
        }
      ]
    },
    {
      "cell_type": "code",
      "metadata": {
        "id": "YkZITPsZqqkS",
        "colab_type": "code",
        "colab": {}
      },
      "source": [
        "answer.to_csv('answer.csv', index=False, float_format='%.1f')"
      ],
      "execution_count": 0,
      "outputs": []
    },
    {
      "cell_type": "markdown",
      "metadata": {
        "id": "3IYP-BSdkrGi",
        "colab_type": "text"
      },
      "source": [
        "Xgboost model score:  \n",
        "<img src=\"https://github.com/EderBraz/Codenation_Enem_2016/blob/master/score.jpg?raw=true\"\n",
        "     alt=\"score 93.62%\"/>"
      ]
    },
    {
      "cell_type": "code",
      "metadata": {
        "id": "P0RIr97dnIrt",
        "colab_type": "code",
        "colab": {}
      },
      "source": [
        ""
      ],
      "execution_count": 0,
      "outputs": []
    }
  ]
}