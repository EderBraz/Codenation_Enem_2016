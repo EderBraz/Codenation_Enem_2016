{
  "nbformat": 4,
  "nbformat_minor": 0,
  "metadata": {
    "colab": {
      "name": "Enem 2016.ipynb",
      "provenance": [],
      "authorship_tag": "ABX9TyNV1zOHaaMWpa/NDf0l4qNI",
      "include_colab_link": true
    },
    "kernelspec": {
      "name": "python3",
      "display_name": "Python 3"
    }
  },
  "cells": [
    {
      "cell_type": "markdown",
      "metadata": {
        "id": "view-in-github",
        "colab_type": "text"
      },
      "source": [
        "<a href=\"https://colab.research.google.com/github/EderBraz/Codenation_Enem_2016/blob/master/Enem_2016.ipynb\" target=\"_parent\"><img src=\"https://colab.research.google.com/assets/colab-badge.svg\" alt=\"Open In Colab\"/></a>"
      ]
    },
    {
      "cell_type": "markdown",
      "metadata": {
        "id": "w7oWDx0C2PyG",
        "colab_type": "text"
      },
      "source": [
        "#Desafio CodeNation - Aceleradev: Previsão de Nota de Matemática do ENEM 2016\n"
      ]
    },
    {
      "cell_type": "code",
      "metadata": {
        "id": "ffSd3eA22L7g",
        "colab_type": "code",
        "colab": {
          "base_uri": "https://localhost:8080/",
          "height": 51
        },
        "outputId": "dd5553a2-3ee5-4880-a4c7-428f93375e57"
      },
      "source": [
        "#import libraries\n",
        "import pandas as pd\n",
        "import numpy as np\n",
        "import matplotlib as plt\n",
        "import seaborn as sns\n",
        "\n",
        "from sklearn.model_selection import train_test_split\n",
        "import xgboost as xgb\n",
        "\n",
        "%matplotlib inline"
      ],
      "execution_count": 3,
      "outputs": [
        {
          "output_type": "stream",
          "text": [
            "/usr/local/lib/python3.6/dist-packages/statsmodels/tools/_testing.py:19: FutureWarning: pandas.util.testing is deprecated. Use the functions in the public API at pandas.testing instead.\n",
            "  import pandas.util.testing as tm\n"
          ],
          "name": "stderr"
        }
      ]
    },
    {
      "cell_type": "markdown",
      "metadata": {
        "id": "yOOvwECl2Rav",
        "colab_type": "text"
      },
      "source": [
        ""
      ]
    },
    {
      "cell_type": "code",
      "metadata": {
        "id": "HQCq3cDX2Qum",
        "colab_type": "code",
        "colab": {}
      },
      "source": [
        "#load dataset\n"
      ],
      "execution_count": 0,
      "outputs": []
    }
  ]
}